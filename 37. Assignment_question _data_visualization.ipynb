{
 "cells": [
  {
   "cell_type": "markdown",
   "metadata": {
    "_cell_guid": "a614ee1c-41cb-4338-9fd7-a06a8d9dc0be",
    "_uuid": "b98a4ae7804eee0a2adc625d17b72fd6f0e7d1ae"
   },
   "source": [
    "<img src=\"https://raw.githubusercontent.com/insaid2018/Term-1/master/Images/INSAID_Full%20Logo.png\" width=\"240\" height=\"360\" />\n",
    "# ASSIGNMENT - DATA VISUALIZATION"
   ]
  },
  {
   "cell_type": "code",
   "execution_count": null,
   "metadata": {
    "_cell_guid": "df5eca2b-aad2-4583-b3cd-48de4b6bb420",
    "_uuid": "423c0a457a6487d95b41785633fb2b00d7dc3cb9",
    "scrolled": true
   },
   "outputs": [],
   "source": [
    "import pandas as pd\n",
    "pokemon = pd.read_csv(\"https://raw.githubusercontent.com/insaid2018/Term-1/master/Data/Casestudy/Pokemon.csv\", index_col=0)\n",
    "pokemon.head()"
   ]
  },
  {
   "cell_type": "markdown",
   "metadata": {},
   "source": [
    "## UNIVARIATE PLOTTING"
   ]
  },
  {
   "cell_type": "markdown",
   "metadata": {},
   "source": [
    "### 1. Create a bar chart using \"Type 1\" and its frequency."
   ]
  },
  {
   "cell_type": "code",
   "execution_count": null,
   "metadata": {
    "_cell_guid": "54144bd1-bfc9-4ae0-8036-b5b73ce31f5e",
    "_kg_hide-input": true,
    "_uuid": "7f5f07645791f33cfbca0ecce8c2c19a0199f6da"
   },
   "outputs": [],
   "source": [
    "import pandas as pd\n",
    "def create():\n",
    "    # your code here using Type1 and its frequency\n",
    "    return None\n",
    "create()"
   ]
  },
  {
   "cell_type": "markdown",
   "metadata": {},
   "source": [
    "### 2. Create a line chart using \"HP\" and its frequency."
   ]
  },
  {
   "cell_type": "code",
   "execution_count": null,
   "metadata": {
    "_cell_guid": "be7eabc3-20b7-4239-8334-4b537dbd1b39",
    "_kg_hide-input": true,
    "_uuid": "53b333f515ce8c4a0dd19d53e7f86ad190003a37"
   },
   "outputs": [],
   "source": [
    "import pandas as pd\n",
    "def create():\n",
    "    # your code here using HP and its frequency\n",
    "    return None\n",
    "create()"
   ]
  },
  {
   "cell_type": "markdown",
   "metadata": {},
   "source": [
    "### 3. Create an area chart using \"Total\" and its frequency."
   ]
  },
  {
   "cell_type": "code",
   "execution_count": null,
   "metadata": {},
   "outputs": [],
   "source": [
    "import pandas as pd\n",
    "def create():\n",
    "    # your code here using Total and its frequency\n",
    "    return None\n",
    "create()    "
   ]
  },
  {
   "cell_type": "markdown",
   "metadata": {},
   "source": [
    "### 4. Create a histogram using \"Total\" and its frequency."
   ]
  },
  {
   "cell_type": "code",
   "execution_count": null,
   "metadata": {},
   "outputs": [],
   "source": [
    "import pandas as pd\n",
    "def create():\n",
    "    # your code here using Total and its frequency\n",
    "    return None\n",
    "create()"
   ]
  },
  {
   "cell_type": "markdown",
   "metadata": {},
   "source": [
    "## BIVARIATE PLOTTING"
   ]
  },
  {
   "cell_type": "markdown",
   "metadata": {},
   "source": [
    "### 5. Create a scatter plot using \"Attack\" and \"Defense\"."
   ]
  },
  {
   "cell_type": "code",
   "execution_count": null,
   "metadata": {
    "_cell_guid": "1fc74bae-d290-4f72-b481-78ead07a1c6f",
    "_kg_hide-input": true,
    "_uuid": "028798b2b4cee37374fb53f3c6e5b4658f2033b3"
   },
   "outputs": [],
   "source": [
    "import pandas as pd\n",
    "def create():\n",
    "    # your code here\n",
    "    return None\n",
    "create()"
   ]
  },
  {
   "cell_type": "markdown",
   "metadata": {},
   "source": [
    "### 6. Create a hex plot using \"Attack\" and \"Defense\" with gridsize of 25."
   ]
  },
  {
   "cell_type": "code",
   "execution_count": null,
   "metadata": {
    "_cell_guid": "9b9b3aa5-a8ce-4717-bc6f-ad8ef09282e9",
    "_kg_hide-input": true,
    "_uuid": "4027dac93bcf3d77eb4e07c49c831be30aa9c0cf"
   },
   "outputs": [],
   "source": [
    "import pandas as pd\n",
    "def create():\n",
    "    # your code here\n",
    "    return None\n",
    "create()"
   ]
  },
  {
   "cell_type": "markdown",
   "metadata": {
    "_cell_guid": "cc3defbf-88c7-4744-94e2-1df1254ac325",
    "_uuid": "1c385e7a8dbb16903f2ce25eac123dcc34ee35b5"
   },
   "source": [
    "### 7. Create a stacked chart on \"Legendary\" and \"Generation\" columns, for stacking on \"Attack\" and \"Defense\" values."
   ]
  },
  {
   "cell_type": "code",
   "execution_count": null,
   "metadata": {
    "_cell_guid": "fb61f746-3c6b-4461-b89d-c31f7414d9e8",
    "_uuid": "dc04a757fa939180bd36c340ba154a9d5bca9df1"
   },
   "outputs": [],
   "source": [
    "import pandas as pd\n",
    "def create():\n",
    "    # your code here (Perform group by and mean respectively)\n",
    "    # call the created variable to plot\n",
    "    return None\n",
    "create()"
   ]
  },
  {
   "cell_type": "markdown",
   "metadata": {
    "_cell_guid": "e58893f2-a0a8-4ae1-a919-dce6ba47c39a",
    "_uuid": "7002d9f9c6b74c6c0d1ea352e126b22575e91483"
   },
   "source": [
    "### 8. Create a bivariate plot line on \"HP\", \"Attack\", \"Defense\", \"Sp.Atk\", \"Sp.Def\", \"Speed\", grouped by \"Generation\"."
   ]
  },
  {
   "cell_type": "code",
   "execution_count": null,
   "metadata": {
    "_cell_guid": "ebb7cc3d-4b72-4564-a5df-64c15af2d49b",
    "_uuid": "4c929c49bd752d1b047c9776f3296306bf896fc7",
    "scrolled": true
   },
   "outputs": [],
   "source": [
    "import pandas as pd\n",
    "def create():\n",
    "    # perform group by and mean for the mentioned variables\n",
    "    # call the created variable to plot\n",
    "    return None\n",
    "create()"
   ]
  },
  {
   "cell_type": "markdown",
   "metadata": {},
   "source": [
    "### 9. Create a pairplot dropping \"Name\" and using \"Legendary\" as hue and implement a palette of your choice(size=2)."
   ]
  },
  {
   "cell_type": "code",
   "execution_count": null,
   "metadata": {
    "scrolled": false
   },
   "outputs": [],
   "source": [
    "import seaborn as sns\n",
    "def create():\n",
    "    # your code her for detailed and distinctive plotting including hue, palette and size\n",
    "    return None\n",
    "create()"
   ]
  },
  {
   "cell_type": "markdown",
   "metadata": {},
   "source": [
    "## MULTIVARIATE PLOTTING"
   ]
  },
  {
   "cell_type": "markdown",
   "metadata": {},
   "source": [
    "### 10. Create a multivariate scatter plot using \"Attack\" and \"Defense\" having hue as \"Legendary\" and appropriate markers as 'x' and 'o'."
   ]
  },
  {
   "cell_type": "code",
   "execution_count": null,
   "metadata": {
    "_cell_guid": "e104eaf6-33c7-4784-8084-17e6fa886c35",
    "_kg_hide-input": true,
    "_uuid": "0202bd31335b2264f2e86bca89130102f32dd389"
   },
   "outputs": [],
   "source": [
    "import seaborn as sns\n",
    "def create():\n",
    "    # your code here (use markers to distinguish data points and hue)\n",
    "    return None\n",
    "create()"
   ]
  },
  {
   "cell_type": "markdown",
   "metadata": {},
   "source": [
    "### 11. Create a box plot using \"Generation\" and \"Total\" with hue as \"Legendary\"."
   ]
  },
  {
   "cell_type": "code",
   "execution_count": null,
   "metadata": {
    "_cell_guid": "e1c8bff0-1cd5-438f-9508-296dc2672286",
    "_kg_hide-input": true,
    "_uuid": "3fc8896104bf1b0c4dce0464152423fa9474efb5"
   },
   "outputs": [],
   "source": [
    "import seaborn as sns\n",
    "def create():\n",
    "    # your code here\n",
    "    return None\n",
    "create()"
   ]
  },
  {
   "cell_type": "markdown",
   "metadata": {},
   "source": [
    "### 12. Create a heatmap using \"HP\", \"Attack\", \"Sp. Atk\", \"Defense\", \"Sp. Def\", \"Speed\" ."
   ]
  },
  {
   "cell_type": "code",
   "execution_count": null,
   "metadata": {
    "_cell_guid": "37c682ee-eba0-423c-9e43-6112f5aa127b",
    "_kg_hide-input": true,
    "_uuid": "11aefdb44b099cd2b5dbe8848f442447524566a1"
   },
   "outputs": [],
   "source": [
    "import seaborn as sns\n",
    "def create():\n",
    "    # your code here (Hint: use annot=True)\n",
    "    return None\n",
    "create()"
   ]
  },
  {
   "cell_type": "markdown",
   "metadata": {},
   "source": [
    "### 13. Create  a parallel coordinates chart  based on \"Psychic\" and \"Fighting\" skills on \"Type 1\", \"Attack\", \"Sp. Atk\", \"Defense\", \"Sp. Def\"."
   ]
  },
  {
   "cell_type": "code",
   "execution_count": null,
   "metadata": {
    "_cell_guid": "67d21ea9-ee23-4c32-adc0-667591638fb3",
    "_kg_hide-input": true,
    "_uuid": "30fb172a828d71959586a80633b228ac98dddb6a"
   },
   "outputs": [],
   "source": [
    "import pandas as pd\n",
    "from pandas.plotting import parallel_coordinates\n",
    "def create():\n",
    "    #your code here (Hint: use .isin and .loc respectively)\n",
    "    # call the created variable\n",
    "    return p\n",
    "create()"
   ]
  },
  {
   "cell_type": "markdown",
   "metadata": {},
   "source": [
    "### 14. Create a swarmplot using \"Generation\" and \"Defense\" marking \"Legendary\" as hue and with any palette of your choice."
   ]
  },
  {
   "cell_type": "code",
   "execution_count": null,
   "metadata": {},
   "outputs": [],
   "source": [
    "import seaborn as sns\n",
    "def create():\n",
    "    # your code here\n",
    "    return None\n",
    "create()"
   ]
  },
  {
   "cell_type": "markdown",
   "metadata": {},
   "source": [
    "### 15. Create a bokeh plot using Attack and Total keeping names as the categorical variables."
   ]
  },
  {
   "cell_type": "code",
   "execution_count": null,
   "metadata": {},
   "outputs": [],
   "source": [
    "from bokeh.plotting import Figure,figure, output_file, show, output_notebook\n",
    "from bokeh.layouts import column\n",
    "from bokeh.models import ColumnDataSource, CustomJS, Slider, HoverTool\n",
    "output_notebook()\n",
    "\n",
    "def create ():\n",
    "    # your code here (using ColumDataScource, feed values for the x and y together with speed and generation)\n",
    "    # using the plot function, provide dimensions as suitable for it.\n",
    "    # create a unique list for names.\n",
    "    # properly code for plot title, legends and axis-name\n",
    "    \n",
    "    \n",
    "    from bokeh.io import push_notebook\n",
    "    def update_plot(number):\n",
    "        # declare all the types variables present in the variable Type1 as a list\n",
    "        # new_data = dict ( # copy the complete code you will generate as per 1st comment)\n",
    "        # source.data = new_data (use this as it is)\n",
    "        push_notebook()\n",
    "    \n",
    "    from ipywidgets import interact\n",
    "        # use interact for displaying how many points you want to show on slider as the levels in Type 1\n",
    "        # use show function to display.\n",
    "        \n",
    "        return None\n",
    "create()"
   ]
  }
 ],
 "metadata": {
  "kernelspec": {
   "display_name": "Python 3",
   "language": "python",
   "name": "python3"
  },
  "language_info": {
   "codemirror_mode": {
    "name": "ipython",
    "version": 3
   },
   "file_extension": ".py",
   "mimetype": "text/x-python",
   "name": "python",
   "nbconvert_exporter": "python",
   "pygments_lexer": "ipython3",
   "version": "3.6.5"
  }
 },
 "nbformat": 4,
 "nbformat_minor": 2
}
