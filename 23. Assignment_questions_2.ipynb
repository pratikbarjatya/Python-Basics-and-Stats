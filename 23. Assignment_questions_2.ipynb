{
 "cells": [
  {
   "cell_type": "markdown",
   "metadata": {},
   "source": [
    "<img src = 'https://github.com/insaid2018/Term-1/blob/master/Images/INSAID_Full%20Logo.png?raw=true' width=\"240\" height=\"360\">\n",
    "# __Assignment: Numpy and Pandas__\n",
    "### Level: 2"
   ]
  },
  {
   "cell_type": "markdown",
   "metadata": {},
   "source": [
    "### 1. Form a 1D array containing elements from -2(including) to 10(excluding) in arithmetic progression with common difference 1.5 , negate all elements which are between 2 and 7, in place. Print out this new array."
   ]
  },
  {
   "cell_type": "code",
   "execution_count": 32,
   "metadata": {},
   "outputs": [],
   "source": [
    "import numpy as np\n",
    "def generate():\n",
    "    # your code here\n",
    "    return # return modified array\n",
    "generate()"
   ]
  },
  {
   "cell_type": "markdown",
   "metadata": {},
   "source": [
    "### 2. Create random vector of size 7 and replace the maximum value by 2 and minimum by 7. Sort this array in reverse order. Return the modified vector."
   ]
  },
  {
   "cell_type": "code",
   "execution_count": 33,
   "metadata": {},
   "outputs": [],
   "source": [
    "import numpy as np\n",
    "def generate():\n",
    "    # your code\n",
    "    return # your array\n",
    "generate()"
   ]
  },
  {
   "cell_type": "markdown",
   "metadata": {},
   "source": [
    "### 3. Convert a random 7x2 matrix representing cartesian coordinates to polar coordinates. Print out both.\n",
    "Hint: use arctan2()."
   ]
  },
  {
   "cell_type": "code",
   "execution_count": 34,
   "metadata": {},
   "outputs": [],
   "source": [
    "import numpy as np\n",
    "def generate():\n",
    "    # your code here\n",
    "    # print out both matrices\n",
    "    return None\n",
    "generate()"
   ]
  },
  {
   "cell_type": "markdown",
   "metadata": {},
   "source": [
    "### 4. Create an numpy array sequence named num_seq when only the starting point, step size and length of sequence is given."
   ]
  },
  {
   "cell_type": "code",
   "execution_count": 1,
   "metadata": {},
   "outputs": [],
   "source": [
    "import numpy as np\n",
    "\n",
    "length = 15\n",
    "start = 5\n",
    "step = 2\n",
    "\n",
    "def generate(start, length, step):\n",
    "    # your code here\n",
    "    return # array created by you, i.e. num_seq\n",
    "generate(start, length, step)"
   ]
  },
  {
   "cell_type": "markdown",
   "metadata": {},
   "source": [
    "### 5. Make a 3*3 array using a 1d array of evenly spaced numbers ranging from 0 to 9, name it arr1.<br/> \n",
    "### Then transpose it to obtain arr2.  From arr2 subtract a 1*3 array with all elements 1 to get arr4.\n",
    "HINT: Use reshape and transpose function."
   ]
  },
  {
   "cell_type": "code",
   "execution_count": 2,
   "metadata": {},
   "outputs": [],
   "source": [
    "import numpy as np\n",
    "def generate():\n",
    "    # your code here\n",
    "    return # finally created array i.e arr4\n",
    "generate()"
   ]
  },
  {
   "cell_type": "markdown",
   "metadata": {},
   "source": [
    "### 6. Create a DatetimeIndex that contains each business day of 2016 and use it to index a Series of random numbers. Let's call this Series bus_2k16. Print it out. Hint: use pd.date_range."
   ]
  },
  {
   "cell_type": "code",
   "execution_count": 10,
   "metadata": {},
   "outputs": [],
   "source": [
    "import pandas as pd\n",
    "import numpy as np\n",
    "def generate():\n",
    "    # Your code here\n",
    "    # print out bus_2k16\n",
    "    return None\n",
    "generate()"
   ]
  },
  {
   "cell_type": "markdown",
   "metadata": {},
   "source": [
    "###  7. For each calendar month in dataframe bus_2k16, from previous problem. Print out the mean of values also find the sum of the values in bus_2k16 for every Sunday."
   ]
  },
  {
   "cell_type": "code",
   "execution_count": 8,
   "metadata": {},
   "outputs": [],
   "source": [
    "import pandas as pd\n",
    "def generate():\n",
    "    # Your code here\n",
    "    # print out mean\n",
    "    # print out sum of the values in bus_2k16 for every Sunday.\n",
    "    return None\n",
    "generate()"
   ]
  },
  {
   "cell_type": "markdown",
   "metadata": {},
   "source": [
    "### 8.Given the dataframe df, In the From_To column split each string on the underscore delimiter _ to give a new temporary DataFrame with the correct values. Also standardise the strings so that only the first letter is uppercase (e.g. \"londON\" should become \"London\".) Assign the correct column names to this temporary DataFrame named as temp. Return temp."
   ]
  },
  {
   "cell_type": "code",
   "execution_count": 11,
   "metadata": {},
   "outputs": [],
   "source": [
    "import numpy as np\n",
    "df = pd.DataFrame({'From_To': ['LoNDon_paris', 'MAdrid_miLAN', 'londON_StockhOlm', \n",
    "                               'Budapest_PaRis', 'Brussels_londOn'],\n",
    "              'FlightNumber': [10045, np.nan, 10065, np.nan, 10085],\n",
    "              'RecentDelays': [[23, 47], [], [24, 43, 87], [13], [67, 32]],\n",
    "                   'Airline': ['KLM(!)', '<Air France> (12)', '(British Airways. )', \n",
    "                               '12. Air France', '\"Swiss Air\"']})\n",
    "import pandas as pd\n",
    "def generate():\n",
    "    # write your code here\n",
    "    return # your temporary variable i.e temp.\n",
    "generate()"
   ]
  },
  {
   "cell_type": "markdown",
   "metadata": {},
   "source": [
    "### 9. Given a dataFrame with 10 columns of real numbers. Find that column's label which has the smallest sum? Also count the number of unique rows the dataframe has. \n",
    "Hint: use idxmin method."
   ]
  },
  {
   "cell_type": "code",
   "execution_count": 12,
   "metadata": {},
   "outputs": [
    {
     "name": "stdout",
     "output_type": "stream",
     "text": [
      "          q         r         s         t         u         v         w  \\\n",
      "0  0.365416  0.473422  0.953670  0.556064  0.994396  0.004377  0.381954   \n",
      "1  0.531423  0.167774  0.198484  0.997754  0.953728  0.214146  0.663055   \n",
      "2  0.366754  0.486134  0.807647  0.888060  0.192364  0.824071  0.697345   \n",
      "3  0.248708  0.040752  0.263040  0.228124  0.553965  0.601300  0.410819   \n",
      "\n",
      "          x         y         z  \n",
      "0  0.035309  0.355604  0.881858  \n",
      "1  0.299920  0.145172  0.572647  \n",
      "2  0.583698  0.458728  0.055934  \n",
      "3  0.112957  0.285955  0.671356  \n"
     ]
    }
   ],
   "source": [
    "import numpy as np\n",
    "import pandas as pd\n",
    "df = pd.DataFrame(np.random.random(size=(4, 10)), columns=list('qrstuvwxyz'))\n",
    "print(df)\n",
    "def generate():\n",
    "    # your code here\n",
    "    # print out that column's label which has the smallest sum\n",
    "    # Also count the number of unique rows the dataframe has.\n",
    "    return None\n",
    "generate()"
   ]
  },
  {
   "cell_type": "markdown",
   "metadata": {},
   "source": [
    "### 10. Given a dataFrame df with a column 'int' of integers. Print out the dataframe with filtered out rows which contain the same integer as the row immediately above. Also print out the dataframe after subtracting the mean of all integers from each element .\n",
    "Hint: use drop_duplicates and sub methods"
   ]
  },
  {
   "cell_type": "code",
   "execution_count": 7,
   "metadata": {},
   "outputs": [],
   "source": [
    "import pandas as pd\n",
    "df = pd.DataFrame({'int': [1, 2, 2, 3, 4, 5, 5, 5, 6, 7, 7]})\n",
    "def generate():\n",
    "    # your code here\n",
    "    # Print out the dataframe with filtered out rows which contain the same integer as the row immediately above\n",
    "    # Print out the dataframe after subtracting the mean of all integers from each element\n",
    "    return None\n",
    "generate()"
   ]
  }
 ],
 "metadata": {
  "kernelspec": {
   "display_name": "Python 3",
   "language": "python",
   "name": "python3"
  },
  "language_info": {
   "codemirror_mode": {
    "name": "ipython",
    "version": 3
   },
   "file_extension": ".py",
   "mimetype": "text/x-python",
   "name": "python",
   "nbconvert_exporter": "python",
   "pygments_lexer": "ipython3",
   "version": "3.6.5"
  }
 },
 "nbformat": 4,
 "nbformat_minor": 2
}
