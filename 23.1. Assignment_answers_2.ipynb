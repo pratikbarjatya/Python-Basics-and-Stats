{
 "cells": [
  {
   "cell_type": "markdown",
   "metadata": {},
   "source": [
    "<img src = 'https://github.com/insaid2018/Term-1/blob/master/Images/INSAID_Full%20Logo.png?raw=true' width=\"240\" height=\"360\">\n",
    "# __Assignment: Numpy and Pandas__\n",
    "### Level: 2"
   ]
  },
  {
   "cell_type": "markdown",
   "metadata": {},
   "source": [
    "### 1. Form a 1D array containing elements from -2(including) to 10(excluding) in arithmetic progression with common difference 1.5 , negate all elements which are between 2 and 7, in place. Print out this new array."
   ]
  },
  {
   "cell_type": "code",
   "execution_count": 42,
   "metadata": {},
   "outputs": [
    {
     "data": {
      "text/plain": [
       "array([-2. , -0.5,  1. , -2.5, -4. , -5.5,  7. ,  8.5])"
      ]
     },
     "execution_count": 42,
     "metadata": {},
     "output_type": "execute_result"
    }
   ],
   "source": [
    "import numpy as np\n",
    "def generate():\n",
    "    arr = np.arange(-2, 10, 1.5)\n",
    "    arr[(arr> 2) & (arr < 7)] *= -1\n",
    "    return arr\n",
    "generate()"
   ]
  },
  {
   "cell_type": "markdown",
   "metadata": {},
   "source": [
    "### 2. Create random vector of size 7 and replace the maximum value by 2 and minimum by 7. Sort this array in reverse order. Return the modified vector."
   ]
  },
  {
   "cell_type": "code",
   "execution_count": 4,
   "metadata": {},
   "outputs": [
    {
     "data": {
      "text/plain": [
       "array([7.        , 2.        , 0.62828751, 0.61034861, 0.61032376,\n",
       "       0.53598851, 0.43433041])"
      ]
     },
     "execution_count": 4,
     "metadata": {},
     "output_type": "execute_result"
    }
   ],
   "source": [
    "import numpy as np\n",
    "def generate():\n",
    "    random_vector = np.random.random(7)\n",
    "    random_vector[random_vector.argmax()] = 2\n",
    "    random_vector[random_vector.argmin()] = 7\n",
    "    modified_vector = np.array(sorted(random_vector,reverse = True))\n",
    "    return modified_vector\n",
    "generate()"
   ]
  },
  {
   "cell_type": "markdown",
   "metadata": {},
   "source": [
    "### 3. Convert a random 7x2 matrix representing cartesian coordinates to polar coordinates. Print out both.\n",
    "Hint: use arctan2(). To know more about polar and cartesian coordinates, here's one link:  [polar and cartesian](https://www.mathsisfun.com/polar-cartesian-coordinates.html)."
   ]
  },
  {
   "cell_type": "code",
   "execution_count": 44,
   "metadata": {},
   "outputs": [
    {
     "name": "stdout",
     "output_type": "stream",
     "text": [
      "[1.0458437  0.6601525  0.8194799  0.89887041 1.10774291 0.6894949\n",
      " 0.81906525]\n",
      "[0.89482235 0.44984808 0.59231601 0.35188332 1.02584175 0.4078043\n",
      " 1.52423917]\n"
     ]
    }
   ],
   "source": [
    "import numpy as np\n",
    "def generate():\n",
    "    matrix = np.random.random((7,2))\n",
    "    row,column = matrix[:,0], matrix[:,1]\n",
    "    radial_coordinate = np.sqrt(row**2 + column**2)\n",
    "    angular_coordinate = np.arctan2(column, row)\n",
    "    print(radial_coordinate)\n",
    "    print(angular_coordinate) \n",
    "    return None\n",
    "generate()"
   ]
  },
  {
   "cell_type": "markdown",
   "metadata": {},
   "source": [
    "### 4. Create an numpy array sequence named num_seq when only the starting point, step size and length of sequence is given."
   ]
  },
  {
   "cell_type": "code",
   "execution_count": 5,
   "metadata": {},
   "outputs": [
    {
     "data": {
      "text/plain": [
       "array([ 5,  7,  9, 11, 13, 15, 17, 19, 21, 23, 25, 27, 29, 31, 33])"
      ]
     },
     "execution_count": 5,
     "metadata": {},
     "output_type": "execute_result"
    }
   ],
   "source": [
    "import numpy as np\n",
    "\n",
    "length = 15\n",
    "start = 5\n",
    "step = 2\n",
    "\n",
    "def generate(start, length, step):\n",
    "    end = start + (step*length)\n",
    "    num_seq = np.arange(start, end, step)\n",
    "    return num_seq\n",
    "\n",
    "generate(start, length, step)"
   ]
  },
  {
   "cell_type": "markdown",
   "metadata": {},
   "source": [
    "### 5. Make a 3*3 array using a 1d array of evenly spaced numbers ranging from 0 to 9, name it arr1.<br/> \n",
    "### Then transpose it to obtain arr2.  From arr2 subtract a 1*3 array with all elements 1 to get arr4. Return arr4.\n",
    "HINT: Use reshape and transpose function."
   ]
  },
  {
   "cell_type": "code",
   "execution_count": 6,
   "metadata": {},
   "outputs": [
    {
     "data": {
      "text/plain": [
       "array([[-1,  2,  5],\n",
       "       [ 0,  3,  6],\n",
       "       [ 1,  4,  7]])"
      ]
     },
     "execution_count": 6,
     "metadata": {},
     "output_type": "execute_result"
    }
   ],
   "source": [
    "import numpy as np\n",
    "def generate():\n",
    "    arr = np.arange(0,9)                                \n",
    "    arr1 = arr.reshape(3,3) \n",
    "    arr2=arr1.transpose()\n",
    "    arr3=np.ones(3,dtype=int)\n",
    "    arr4=arr2-arr3\n",
    "    return arr4\n",
    "generate()"
   ]
  },
  {
   "cell_type": "markdown",
   "metadata": {},
   "source": [
    "### 6. Create a DatetimeIndex that contains each business day of 2016 and use it to index a Series of random numbers. Let's call this Series bus_2k16. Hint: use pd.date_range."
   ]
  },
  {
   "cell_type": "code",
   "execution_count": 16,
   "metadata": {},
   "outputs": [
    {
     "name": "stdout",
     "output_type": "stream",
     "text": [
      "2016-01-01    0.095701\n",
      "2016-01-04    0.232470\n",
      "2016-01-05    0.135059\n",
      "2016-01-06    0.679089\n",
      "2016-01-07    0.100903\n",
      "2016-01-08    0.989963\n",
      "2016-01-11    0.273744\n",
      "2016-01-12    0.124714\n",
      "2016-01-13    0.623064\n",
      "2016-01-14    0.034320\n",
      "2016-01-15    0.585004\n",
      "2016-01-18    0.968716\n",
      "2016-01-19    0.756913\n",
      "2016-01-20    0.822328\n",
      "2016-01-21    0.990565\n",
      "2016-01-22    0.034627\n",
      "2016-01-25    0.739713\n",
      "2016-01-26    0.605360\n",
      "2016-01-27    0.243645\n",
      "2016-01-28    0.439792\n",
      "2016-01-29    0.435647\n",
      "2016-02-01    0.608861\n",
      "2016-02-02    0.016345\n",
      "2016-02-03    0.109646\n",
      "2016-02-04    0.086659\n",
      "2016-02-05    0.957457\n",
      "2016-02-08    0.484673\n",
      "2016-02-09    0.515105\n",
      "2016-02-10    0.032175\n",
      "2016-02-11    0.408401\n",
      "                ...   \n",
      "2016-11-21    0.978883\n",
      "2016-11-22    0.797898\n",
      "2016-11-23    0.853793\n",
      "2016-11-24    0.991109\n",
      "2016-11-25    0.345510\n",
      "2016-11-28    0.359495\n",
      "2016-11-29    0.017110\n",
      "2016-11-30    0.299928\n",
      "2016-12-01    0.573434\n",
      "2016-12-02    0.946700\n",
      "2016-12-05    0.129125\n",
      "2016-12-06    0.558134\n",
      "2016-12-07    0.962255\n",
      "2016-12-08    0.211757\n",
      "2016-12-09    0.138655\n",
      "2016-12-12    0.534360\n",
      "2016-12-13    0.114894\n",
      "2016-12-14    0.780097\n",
      "2016-12-15    0.625724\n",
      "2016-12-16    0.120984\n",
      "2016-12-19    0.860876\n",
      "2016-12-20    0.289886\n",
      "2016-12-21    0.473059\n",
      "2016-12-22    0.389863\n",
      "2016-12-23    0.361593\n",
      "2016-12-26    0.095997\n",
      "2016-12-27    0.653284\n",
      "2016-12-28    0.203584\n",
      "2016-12-29    0.591660\n",
      "2016-12-30    0.650652\n",
      "Freq: B, Length: 261, dtype: float64\n"
     ]
    }
   ],
   "source": [
    "import pandas as pd\n",
    "import numpy as np\n",
    "def generate():\n",
    "    dti = pd.date_range(start='2016-01-01', end='2016-12-31', freq='B') \n",
    "    bus_2k16 = pd.Series(np.random.rand(len(dti)), index=dti)\n",
    "    print(bus_2k16)\n",
    "generate()"
   ]
  },
  {
   "cell_type": "markdown",
   "metadata": {},
   "source": [
    "###  7. For each calendar month in dataframe bus_2k16, from previous problem. Print out the mean of values also find the sum of the values in bus_2k16 for every Monday."
   ]
  },
  {
   "cell_type": "code",
   "execution_count": 10,
   "metadata": {},
   "outputs": [
    {
     "name": "stdout",
     "output_type": "stream",
     "text": [
      "2016-01-01    0.090988\n",
      "2016-01-04    0.923917\n",
      "2016-01-05    0.427611\n",
      "2016-01-06    0.446336\n",
      "2016-01-07    0.998900\n",
      "2016-01-08    0.602796\n",
      "2016-01-11    0.389314\n",
      "2016-01-12    0.360058\n",
      "2016-01-13    0.599986\n",
      "2016-01-14    0.330717\n",
      "2016-01-15    0.268258\n",
      "2016-01-18    0.965553\n",
      "2016-01-19    0.227668\n",
      "2016-01-20    0.023907\n",
      "2016-01-21    0.387630\n",
      "2016-01-22    0.862868\n",
      "2016-01-25    0.316829\n",
      "2016-01-26    0.541085\n",
      "2016-01-27    0.182479\n",
      "2016-01-28    0.595381\n",
      "2016-01-29    0.186226\n",
      "2016-02-01    0.019203\n",
      "2016-02-02    0.674416\n",
      "2016-02-03    0.286253\n",
      "2016-02-04    0.744905\n",
      "2016-02-05    0.869371\n",
      "2016-02-08    0.924223\n",
      "2016-02-09    0.684710\n",
      "2016-02-10    0.869907\n",
      "2016-02-11    0.035936\n",
      "                ...   \n",
      "2016-11-21    0.023464\n",
      "2016-11-22    0.673554\n",
      "2016-11-23    0.211655\n",
      "2016-11-24    0.340862\n",
      "2016-11-25    0.162169\n",
      "2016-11-28    0.032198\n",
      "2016-11-29    0.474480\n",
      "2016-11-30    0.648598\n",
      "2016-12-01    0.921493\n",
      "2016-12-02    0.771196\n",
      "2016-12-05    0.226596\n",
      "2016-12-06    0.660501\n",
      "2016-12-07    0.030611\n",
      "2016-12-08    0.077918\n",
      "2016-12-09    0.674201\n",
      "2016-12-12    0.655413\n",
      "2016-12-13    0.178616\n",
      "2016-12-14    0.781787\n",
      "2016-12-15    0.805365\n",
      "2016-12-16    0.260691\n",
      "2016-12-19    0.364642\n",
      "2016-12-20    0.712301\n",
      "2016-12-21    0.062823\n",
      "2016-12-22    0.925944\n",
      "2016-12-23    0.657945\n",
      "2016-12-26    0.062054\n",
      "2016-12-27    0.574612\n",
      "2016-12-28    0.482785\n",
      "2016-12-29    0.083547\n",
      "2016-12-30    0.157605\n",
      "Freq: B, Length: 261, dtype: float64\n",
      "2016-01-31    0.463262\n",
      "2016-02-29    0.518415\n",
      "2016-03-31    0.508402\n",
      "2016-04-30    0.443456\n",
      "2016-05-31    0.551428\n",
      "2016-06-30    0.621532\n",
      "2016-07-31    0.511271\n",
      "2016-08-31    0.387700\n",
      "2016-09-30    0.466508\n",
      "2016-10-31    0.478423\n",
      "2016-11-30    0.416816\n",
      "2016-12-31    0.460393\n",
      "Freq: M, dtype: float64\n",
      "24.32864881598529\n"
     ]
    }
   ],
   "source": [
    "import pandas as pd\n",
    "import numpy as np\n",
    "def generate():\n",
    "    dti = pd.date_range(start='2016-01-01', end='2016-12-31', freq='B') \n",
    "    bus_2k16 = pd.Series(np.random.rand(len(dti)), index=dti)\n",
    "    print(bus_2k16)\n",
    "    print(bus_2k16.resample('M').mean())\n",
    "    print(bus_2k16[bus_2k16.index.weekday == 0].sum())\n",
    "    return None\n",
    "generate()"
   ]
  },
  {
   "cell_type": "markdown",
   "metadata": {},
   "source": [
    "### 8.Given the dataframe df, In the From_To column split each string on the underscore delimiter _ to give a new temporary DataFrame with the correct values. Also standardise the strings so that only the first letter is uppercase (e.g. \"londON\" should become \"London\".) Assign the correct column names to this temporary DataFrame named as temp. Return temp."
   ]
  },
  {
   "cell_type": "code",
   "execution_count": 17,
   "metadata": {},
   "outputs": [
    {
     "data": {
      "text/html": [
       "<div>\n",
       "<style scoped>\n",
       "    .dataframe tbody tr th:only-of-type {\n",
       "        vertical-align: middle;\n",
       "    }\n",
       "\n",
       "    .dataframe tbody tr th {\n",
       "        vertical-align: top;\n",
       "    }\n",
       "\n",
       "    .dataframe thead th {\n",
       "        text-align: right;\n",
       "    }\n",
       "</style>\n",
       "<table border=\"1\" class=\"dataframe\">\n",
       "  <thead>\n",
       "    <tr style=\"text-align: right;\">\n",
       "      <th></th>\n",
       "      <th>From</th>\n",
       "      <th>To</th>\n",
       "    </tr>\n",
       "  </thead>\n",
       "  <tbody>\n",
       "    <tr>\n",
       "      <th>0</th>\n",
       "      <td>London</td>\n",
       "      <td>Paris</td>\n",
       "    </tr>\n",
       "    <tr>\n",
       "      <th>1</th>\n",
       "      <td>Madrid</td>\n",
       "      <td>Milan</td>\n",
       "    </tr>\n",
       "    <tr>\n",
       "      <th>2</th>\n",
       "      <td>London</td>\n",
       "      <td>Stockholm</td>\n",
       "    </tr>\n",
       "    <tr>\n",
       "      <th>3</th>\n",
       "      <td>Budapest</td>\n",
       "      <td>Paris</td>\n",
       "    </tr>\n",
       "    <tr>\n",
       "      <th>4</th>\n",
       "      <td>Brussels</td>\n",
       "      <td>London</td>\n",
       "    </tr>\n",
       "  </tbody>\n",
       "</table>\n",
       "</div>"
      ],
      "text/plain": [
       "       From         To\n",
       "0    London      Paris\n",
       "1    Madrid      Milan\n",
       "2    London  Stockholm\n",
       "3  Budapest      Paris\n",
       "4  Brussels     London"
      ]
     },
     "execution_count": 17,
     "metadata": {},
     "output_type": "execute_result"
    }
   ],
   "source": [
    "import numpy as np\n",
    "df = pd.DataFrame({'From_To': ['LoNDon_paris', 'MAdrid_miLAN', 'londON_StockhOlm', \n",
    "                               'Budapest_PaRis', 'Brussels_londOn'],\n",
    "              'FlightNumber': [10045, np.nan, 10065, np.nan, 10085],\n",
    "              'RecentDelays': [[23, 47], [], [24, 43, 87], [13], [67, 32]],\n",
    "                   'Airline': ['KLM(!)', '<Air France> (12)', '(British Airways. )', \n",
    "                               '12. Air France', '\"Swiss Air\"']})\n",
    "import pandas as pd\n",
    "def generate():\n",
    "    temp = df.From_To.str.split('_', expand=True)\n",
    "    temp.columns = ['From', 'To']\n",
    "    temp['From'] = temp['From'].str.capitalize()\n",
    "    temp['To'] = temp['To'].str.capitalize()\n",
    "    return temp\n",
    "generate()"
   ]
  },
  {
   "cell_type": "markdown",
   "metadata": {},
   "source": [
    "### 9. Given a dataFrame with 10 columns of real numbers. Find that column's label which has the smallest sum? Also count the number of unique rows the dataframe has.\n",
    "Hint: use idxmin method."
   ]
  },
  {
   "cell_type": "code",
   "execution_count": 18,
   "metadata": {},
   "outputs": [
    {
     "name": "stdout",
     "output_type": "stream",
     "text": [
      "t\n",
      "4\n"
     ]
    }
   ],
   "source": [
    "import pandas as pd\n",
    "import numpy as np\n",
    "df = pd.DataFrame(np.random.random(size=(4, 10)), columns=list('qrstuvwxyz'))\n",
    "def generate():\n",
    "    print(df.sum().idxmin())\n",
    "    print(len(df) - df.duplicated(keep=False).sum())\n",
    "    return None\n",
    "generate()"
   ]
  },
  {
   "cell_type": "markdown",
   "metadata": {},
   "source": [
    "### 10. Given a dataFrame df with a column 'int' of integers. Print out the dataframe with filtered out rows which contain the same integer as the row immediately above. Also print out the dataframe after subtracting the mean of all integers from each element.\n",
    "Hint: use drop_duplicates and sub methods"
   ]
  },
  {
   "cell_type": "code",
   "execution_count": 15,
   "metadata": {},
   "outputs": [
    {
     "name": "stdout",
     "output_type": "stream",
     "text": [
      "   int\n",
      "0    1\n",
      "1    2\n",
      "3    3\n",
      "4    4\n",
      "5    5\n",
      "8    6\n",
      "9    7\n",
      "         int\n",
      "0  -3.272727\n",
      "1  -2.272727\n",
      "2  -2.272727\n",
      "3  -1.272727\n",
      "4  -0.272727\n",
      "5   0.727273\n",
      "6   0.727273\n",
      "7   0.727273\n",
      "8   1.727273\n",
      "9   2.727273\n",
      "10  2.727273\n"
     ]
    }
   ],
   "source": [
    "import pandas as pd\n",
    "df = pd.DataFrame({'int': [1, 2, 2, 3, 4, 5, 5, 5, 6, 7, 7]})\n",
    "def generate():\n",
    "    print(df.drop_duplicates(subset='int'))\n",
    "    print(df.sub(df.mean(axis=0), axis=1))\n",
    "    return None\n",
    "generate()"
   ]
  }
 ],
 "metadata": {
  "kernelspec": {
   "display_name": "Python 3",
   "language": "python",
   "name": "python3"
  },
  "language_info": {
   "codemirror_mode": {
    "name": "ipython",
    "version": 3
   },
   "file_extension": ".py",
   "mimetype": "text/x-python",
   "name": "python",
   "nbconvert_exporter": "python",
   "pygments_lexer": "ipython3",
   "version": "3.6.5"
  }
 },
 "nbformat": 4,
 "nbformat_minor": 2
}
